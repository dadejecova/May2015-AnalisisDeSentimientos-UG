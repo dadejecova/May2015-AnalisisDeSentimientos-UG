{
 "cells": [
  {
   "cell_type": "code",
   "execution_count": 1,
   "id": "2adc8cb4",
   "metadata": {},
   "outputs": [],
   "source": [
    "# Este script identifica las clases de comunicación dentro del rango establecido. \n",
    "# Para propósito de ilustración he definido tres rangos, Pasivos, Asertivos y Agresivos. \n",
    "# La lista de palabras claves tranquilamente puede ser extendida o reducida.\n",
    "# ALGORITMO DE CLASIFICACIÓN \n",
    "import sqlite3 \n",
    "import pandas as pd \n",
    "import matplotlib.pyplot as plt"
   ]
  },
  {
   "cell_type": "code",
   "execution_count": 2,
   "id": "94854636",
   "metadata": {},
   "outputs": [],
   "source": [
    "# Conexión a la base SQLite\n",
    "sql_conn = sqlite3.connect('database.sqlite')"
   ]
  },
  {
   "cell_type": "code",
   "execution_count": 3,
   "id": "c7c2a737",
   "metadata": {},
   "outputs": [],
   "source": [
    "df = pd.read_sql(\"SELECT score, body FROM May2015 WHERE LENGTH(body) > 5 AND LENGTH(body) < 100 LIMIT 230000\", sql_conn) "
   ]
  },
  {
   "cell_type": "code",
   "execution_count": 4,
   "id": "58a63a61",
   "metadata": {},
   "outputs": [],
   "source": [
    "keywords = pd.DataFrame({\n",
    "'Pasivo': pd.Series(['if you have the time','hmm','well','that was my fault','not sure','do not worry', 'can we talk', \n",
    "'blah','callous', 'cool', 'latent', 'lethargic', 'lurking', 'on the shelf', 'out of action', 'potential', 'prepatent', 'quiescent', 'sidelined', 'slack', \n",
    "'cold', 'cold-hearted', 'cold-shoulder', 'forbidding', 'formal', 'frosty', 'icy', 'impotent', 'indifferent', 'lifeless']), \n",
    "'Asertivo': pd.Series(['good idea','great idea','thanks for','good to know','really like', 'too','sorry for','Speaks openly','confident', 'assured', \n",
    "'certain', 'believing', 'calm', 'convinced', 'positive', 'questionless', 'satisfied', 'secure', 'undisturbed', 'undoubtful', \n",
    "'undoubting', 'unperturbed', 'untroubled', 'advantageous', 'arresting', 'bossy', 'compelling', 'controlling', 'dominant', 'forceful']), \n",
    "'Agresivo': pd.Series(['fuck','fucking','ass','idiot', 'moron', 'asshole','dumbass', 'aggressive', 'agile', 'alert', \n",
    "'chipper', 'daring', 'dashing', 'dexterous', 'diligent', 'dynamic', 'eager', 'energetic', 'engaged', 'enlivened',  \n",
    "'avid', 'ball of fire', 'bent upon', 'climbing', 'come on', 'come on strong', 'designing', 'desirous', 'eager beaver', 'get up and go']), \n",
    "})"
   ]
  },
  {
   "cell_type": "code",
   "execution_count": 5,
   "id": "f9c9996b",
   "metadata": {},
   "outputs": [],
   "source": [
    "content_summary = pd.DataFrame() \n",
    "for col in keywords: \n",
    "    content = df[df.body.apply(lambda x: any(keyword in x.split() for keyword in keywords[col]))] \n",
    "    content_summary[col] = content.describe().score \n",
    "    \n",
    "keys = content_summary.keys() \n",
    "\n",
    "content_summary = content_summary.transpose()"
   ]
  },
  {
   "cell_type": "code",
   "execution_count": 6,
   "id": "c03e78bc",
   "metadata": {},
   "outputs": [
    {
     "name": "stderr",
     "output_type": "stream",
     "text": [
      "C:\\Users\\Daniel Coello\\AppData\\Local\\Temp\\ipykernel_25556\\4168652441.py:51: FutureWarning: Series.__getitem__ treating keys as positions is deprecated. In a future version, integer keys will always be treated as labels (consistent with DataFrame behavior). To access a value by position, use `ser.iloc[pos]`\n",
      "  plt.text(rect.get_x()+rect.get_width()/2., 1.05*height, '%s'% (\"Score {0:.2f}\".format(content_summary['mean'][ii])), ha='center', va='bottom')\n",
      "C:\\Users\\Daniel Coello\\AppData\\Local\\Temp\\ipykernel_25556\\4168652441.py:52: FutureWarning: Series.__getitem__ treating keys as positions is deprecated. In a future version, integer keys will always be treated as labels (consistent with DataFrame behavior). To access a value by position, use `ser.iloc[pos]`\n",
      "  plt.text(rect.get_x()+rect.get_width()/2., 1.15*height, '%s'% (\"Score {0:.0f}\".format(content_summary['count'][ii])), ha='center', va='bottom')\n"
     ]
    },
    {
     "data": {
      "image/png": "[encoded data removed]",
      "text/plain": [
       "<Figure size 800x500 with 1 Axes>"
      ]
     },
     "metadata": {},
     "output_type": "display_data"
    }
   ],
   "source": [
    "pos = list(range(len(content_summary['count']))) \n",
    "width = 0.50 \n",
    "# Agregando las posiciones de anchura para las barras. \n",
    "# Construyendo las barras \n",
    "fig, ax = plt.subplots(figsize=(8,5)) \n",
    "\n",
    "clrs = [] \n",
    "for v in content_summary['mean'].values: \n",
    "    if v < 1: \n",
    "        clrs.append('#FF0000') \n",
    "    elif v < 2.5: \n",
    "        clrs.append('#FF0073') \n",
    "    elif v < 5: \n",
    "        clrs.append('#B300FF') \n",
    "    elif v < 6: \n",
    "        clrs.append('#A36AC6') \n",
    "    elif v < 7: \n",
    "        clrs.append('#6C6AC6') \n",
    "    elif v < 8: \n",
    "        clrs.append('#6AC681') \n",
    "    elif v < 9: \n",
    "        clrs.append('#BCDA52') \n",
    "    elif v < 10: \n",
    "        clrs.append('#B87B2B') \n",
    "    else: \n",
    "        clrs.append('r')\n",
    "\n",
    "plt.bar(pos,         \n",
    "        content_summary['count'], \n",
    "        width, \n",
    "        alpha=0.8, \n",
    "        color=clrs, \n",
    "        label=keys)\n",
    "\n",
    "# Capa Y \n",
    "ax.set_ylabel('No. de comentarios') \n",
    "ax.set_title('Clasificación de los rangos de comunicación') \n",
    "# Capa X \n",
    "ax.set_xticks([p + 0.5 * width for p in pos]) \n",
    "# Setear las capas de las llaves en el eje X \n",
    "ax.set_xticklabels(keys) \n",
    "# Establecer el eje X y Y \n",
    "plt.xlim(min(pos)-width, max(pos)+width*4) \n",
    "plt.ylim([0, max(content_summary['count'])+1000])\n",
    "\n",
    "rects = ax.patches\n",
    "\n",
    "# Hacer las etiquetas \n",
    "for ii,rect in enumerate(rects): \n",
    "        height = rect.get_height() \n",
    "        plt.text(rect.get_x()+rect.get_width()/2., 1.05*height, '%s'% (\"Score {0:.2f}\".format(content_summary['mean'][ii])), ha='center', va='bottom') \n",
    "        plt.text(rect.get_x()+rect.get_width()/2., 1.15*height, '%s'% (\"Score {0:.0f}\".format(content_summary['count'][ii])), ha='center', va='bottom') \n",
    "\n",
    "plt.grid() "
   ]
  },
  {
   "cell_type": "code",
   "execution_count": 7,
   "id": "5f14308b",
   "metadata": {},
   "outputs": [
    {
     "name": "stdout",
     "output_type": "stream",
     "text": [
      "Podemos obtener la media de las diferentes conductas sociales\n",
      "           count      mean        std    min  25%  50%  75%     max\n",
      "Pasivo    1808.0  4.494469  41.900044  -47.0  1.0  2.0  3.0  1745.0\n",
      "Asertivo  2304.0  5.808594  42.995060  -21.0  1.0  2.0  3.0  1492.0\n",
      "Agresivo  4325.0  9.567168  76.013369 -113.0  1.0  2.0  5.0  3416.0\n"
     ]
    }
   ],
   "source": [
    "print(\"Podemos obtener la media de las diferentes conductas sociales\") \n",
    "print(content_summary)"
   ]
  },
  {
   "cell_type": "code",
   "execution_count": null,
   "id": "b2106fa6",
   "metadata": {},
   "outputs": [],
   "source": []
  },
  {
   "cell_type": "code",
   "execution_count": null,
   "id": "70a6737e",
   "metadata": {},
   "outputs": [],
   "source": []
  },
  {
   "cell_type": "code",
   "execution_count": null,
   "id": "8390e1df",
   "metadata": {},
   "outputs": [],
   "source": []
  },
  {
   "cell_type": "code",
   "execution_count": null,
   "id": "18958609",
   "metadata": {},
   "outputs": [],
   "source": []
  }
 ],
 "metadata": {
  "kernelspec": {
   "display_name": ".venv",
   "language": "python",
   "name": "python3"
  },
  "language_info": {
   "codemirror_mode": {
    "name": "ipython",
    "version": 3
   },
   "file_extension": ".py",
   "mimetype": "text/x-python",
   "name": "python",
   "nbconvert_exporter": "python",
   "pygments_lexer": "ipython3",
   "version": "3.13.3"
  }
 },
 "nbformat": 4,
 "nbformat_minor": 5
}
